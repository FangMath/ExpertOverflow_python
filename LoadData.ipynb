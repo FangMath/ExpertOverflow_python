{
 "cells": [
  {
   "cell_type": "code",
   "execution_count": null,
   "metadata": {
    "collapsed": false,
    "slideshow": {
     "slide_type": "slide"
    }
   },
   "outputs": [],
   "source": [
    "import xml.etree.ElementTree as ET\n",
    "import pandas as pd\n",
    "import time\n",
    "import numpy as np"
   ]
  },
  {
   "cell_type": "code",
   "execution_count": null,
   "metadata": {
    "collapsed": false,
    "scrolled": true,
    "slideshow": {
     "slide_type": "subslide"
    }
   },
   "outputs": [],
   "source": [
    "###########################################\n",
    "# Top 100 tags\n",
    "###########################################\n",
    "tree = ET.parse('../StatsData/Tags.xml')\n",
    "root = tree.getroot()\n",
    "chil = root.getchildren()\n",
    "tagsDF = pd.DataFrame([ch.attrib for ch in chil])\n",
    "tagsDF.Count=map(int, tagsDF.Count)\n",
    "\n",
    "tagsDF=tagsDF.sort('Count',ascending=0)\n",
    "tag_list = list(tagsDF.TagName)\n",
    "UserTagList = tag_list[0:100] # top100 tags\n",
    "#tagsDF[0:100]"
   ]
  },
  {
   "cell_type": "code",
   "execution_count": null,
   "metadata": {
    "collapsed": false
   },
   "outputs": [],
   "source": [
    "print \"The top 100 tags are:\"\n",
    "print UserTagList"
   ]
  },
  {
   "cell_type": "code",
   "execution_count": null,
   "metadata": {
    "collapsed": false
   },
   "outputs": [],
   "source": [
    "###########################################\n",
    "# load Users, Posts Data\n",
    "###########################################\n",
    "tree = ET.parse('../StatsData/Users.xml')\n",
    "root = tree.getroot()\n",
    "chil = root.getchildren()\n",
    "UsersDF = pd.DataFrame([ch.attrib for ch in chil])\n",
    "\n",
    "tree = ET.parse('../StatsData/Posts.xml')\n",
    "root = tree.getroot()\n",
    "chil = root.getchildren()\n",
    "PostsDF = pd.DataFrame([ch.attrib for ch in chil])"
   ]
  },
  {
   "cell_type": "code",
   "execution_count": null,
   "metadata": {
    "collapsed": false
   },
   "outputs": [],
   "source": [
    "###########################################\n",
    "# Find user score at each tag\n",
    "###########################################\n",
    "QID={}\n",
    "User={}\n",
    "questionDF = PostsDF[PostsDF['PostTypeId']=='1']\n",
    "\n",
    "for tag in UserTagList:\n",
    "    _tag = '<'+tag+'>'\n",
    "    print tag\n",
    "    t = time.time()\n",
    "    iftag = list(_tag in s for s in questionDF.Tags.values.tolist())\n",
    "    QID[_tag] = questionDF[iftag].Id.values.tolist()\n",
    "    lst = list((PostsDF.OwnerUserId[a],int(PostsDF.Score[a]))  for a in PostsDF.index if (PostsDF.ParentId[a] in QID[_tag]))\n",
    "    ps = pd.DataFrame(lst, columns=['OwnerUserId', 'Score'])\n",
    "    User[tag] = ps.groupby('OwnerUserId').sum()\n",
    "    print time.time()-t\n"
   ]
  },
  {
   "cell_type": "code",
   "execution_count": null,
   "metadata": {
    "collapsed": false
   },
   "outputs": [],
   "source": [
    "# save User DataFrame\n",
    "import dill, os\n",
    "if os.path.isfile('User.pickle'):\n",
    "    os.remove('User.pickle')\n",
    "dill.dump(User, open(\"../StatsData/User.pickle\", \"w\"))"
   ]
  },
  {
   "cell_type": "code",
   "execution_count": null,
   "metadata": {
    "collapsed": false,
    "scrolled": true
   },
   "outputs": [],
   "source": [
    "#####################################\n",
    "# join the dataframe of all tags\n",
    "#####################################\n",
    "left = User[UserTagList[0]].rename(columns={'Score': UserTagList[0]})\n",
    "for tag in UserTagList[1:]:\n",
    "    right = User[tag].rename(columns={'Score': tag})\n",
    "    left = pd.merge(left, right, left_index=True, right_index=True, how='outer')\n",
    "left=left.fillna(0)\n",
    "if os.path.isfile('RawCount.pickle'):\n",
    "    os.remove('RawCount.pickle')\n",
    "dill.dump(left, open(\"../StatsData/RawCount.pickle\", \"w\"))\n",
    "left"
   ]
  }
 ],
 "metadata": {
  "kernelspec": {
   "display_name": "Python 2",
   "language": "python",
   "name": "python2"
  },
  "language_info": {
   "codemirror_mode": {
    "name": "ipython",
    "version": 2
   },
   "file_extension": ".py",
   "mimetype": "text/x-python",
   "name": "python",
   "nbconvert_exporter": "python",
   "pygments_lexer": "ipython2",
   "version": "2.7.9"
  }
 },
 "nbformat": 4,
 "nbformat_minor": 0
}
