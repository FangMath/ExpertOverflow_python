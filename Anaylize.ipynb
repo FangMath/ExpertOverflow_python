{
 "cells": [
  {
   "cell_type": "code",
   "execution_count": null,
   "metadata": {
    "collapsed": false
   },
   "outputs": [],
   "source": [
    "import networkx as nx\n",
    "import numpy as np\n",
    "import pandas as pd\n",
    "import matplotlib.pyplot as plt\n",
    "from scipy import stats\n",
    "import dill, os\n",
    "from sklearn.cluster import KMeans\n",
    "from sklearn.decomposition import PCA\n",
    "%matplotlib inline\n",
    "import matplotlib\n",
    "from mpl_toolkits.mplot3d import axes3d\n",
    "import seaborn as sns\n",
    "matplotlib.rcParams['savefig.dpi'] = 2 * matplotlib.rcParams['savefig.dpi']\n",
    "from bokeh.plotting import figure, show, output_notebook, output_file"
   ]
  },
  {
   "cell_type": "code",
   "execution_count": null,
   "metadata": {
    "collapsed": false,
    "scrolled": true
   },
   "outputs": [],
   "source": [
    "RawCount = dill.load(open(\"../StatsData/RawCount.pickle\"))\n",
    "\n",
    "###############################\n",
    "# Data transformation\n",
    "###############################\n",
    "UserScore = RawCount\n",
    "for col in UserScore.columns:\n",
    "    # Method 1: quantile normalization\n",
    "    #UserScore[col] = [(stats.percentileofscore(RawCount[col], a, 'strict')/100) for a in RawCount[col]]\n",
    "    \n",
    "    # Method 2: exponential distribution\n",
    "    a = 1-np.exp(-RawCount[col]/np.mean(RawCount[col]))\n",
    "    a[a<0]=0 # set negative scores to 0\n",
    "    UserScore[col] = a\n",
    "#UserScore\n",
    "len(RawCount)"
   ]
  },
  {
   "cell_type": "code",
   "execution_count": null,
   "metadata": {
    "collapsed": false,
    "scrolled": true
   },
   "outputs": [],
   "source": [
    "# Further transformation??? \n",
    "UserScorePro = UserScore[UserScore.max(axis=1) >= 0]\n",
    "#UserScoreAll = UserScorePro.copy()\n",
    "#UserScoreAll['max'] = UserScorePro.max(axis=1)\n",
    "#UserScoreAll.sort([ 'max'])"
   ]
  },
  {
   "cell_type": "code",
   "execution_count": null,
   "metadata": {
    "collapsed": false
   },
   "outputs": [],
   "source": [
    "##################################\n",
    "# PCA -> K means clustering\n",
    "##################################\n",
    "\n",
    "X = UserScorePro\n",
    "k=6\n",
    "n_pca = 100\n",
    "X = PCA(n_components=n_pca).fit_transform(X)\n",
    "clusters = KMeans(n_clusters=k)\n",
    "clusters.fit(X) # all_schools is a n * m matrix, where n is the number of samples, m is the number of \n",
    "centroids = clusters.cluster_centers_\n",
    "labels = clusters.labels_"
   ]
  },
  {
   "cell_type": "code",
   "execution_count": null,
   "metadata": {
    "collapsed": false
   },
   "outputs": [],
   "source": [
    "newUserScore = UserScore.reset_index(drop=True)\n",
    "ff = {}\n",
    "group = pd.DataFrame(np.arange(k), columns=['group ID'])\n",
    "Usercount = []\n",
    "groupinfo = {}\n",
    "for i in range(k):\n",
    "    gg = newUserScore.loc[np.where(labels==i)]\n",
    "    ff[i] = pd.merge(pd.DataFrame(gg.mean(),columns=['mean']), pd.DataFrame(gg.median(),columns=['median']), \n",
    "                     left_index=True, right_index=True, how='outer')\n",
    "    Usercount.append(len(newUserScore.loc[np.where(labels==i)]))\n",
    "    groupinfo[i] = ff[i].sort('mean',ascending=0).head(20)"
   ]
  },
  {
   "cell_type": "code",
   "execution_count": null,
   "metadata": {
    "collapsed": false,
    "scrolled": false
   },
   "outputs": [],
   "source": [
    "colors = ['red','blue','green','yellow', 'orange', 'magenta','black']\n",
    "for i in range(k):\n",
    "    print '____________________________________________'\n",
    "    print 'Group', colors[i], ':', Usercount[i], 'users'\n",
    "    print  groupinfo[i]\n",
    "    print '\\n'"
   ]
  },
  {
   "cell_type": "code",
   "execution_count": null,
   "metadata": {
    "collapsed": false,
    "scrolled": false
   },
   "outputs": [],
   "source": [
    "   \n",
    "#TOOLS=\"resize,crosshair,pan,wheel_zoom,box_zoom,reset,tap,previewsave,box_select,poly_select,lasso_select\"\n",
    "output_notebook()\n",
    "#p = figure(tools=TOOLS)\n",
    "\n",
    "\n",
    "#output_file(\"clustering.html\", title=\"line plot example\")\n",
    "p = figure(title=\"Stats Overflow User clustering\", x_axis_label='1st component', y_axis_label='2nd component')\n",
    "    \n",
    "for j in range(k):\n",
    "    ds = X[np.where(labels==j)]\n",
    "    p.scatter(ds[:,0], ds[:,1], fill_alpha=0.6, color=colors[j])\n",
    "\n",
    "for j in range(k):\n",
    "    p.scatter(centroids[j,0],centroids[j,1], size=12,  marker='x',color='black')\n",
    "\n",
    "\n",
    "show(p)\n"
   ]
  },
  {
   "cell_type": "code",
   "execution_count": null,
   "metadata": {
    "collapsed": false
   },
   "outputs": [],
   "source": []
  },
  {
   "cell_type": "code",
   "execution_count": null,
   "metadata": {
    "collapsed": false
   },
   "outputs": [],
   "source": []
  },
  {
   "cell_type": "code",
   "execution_count": null,
   "metadata": {
    "collapsed": true
   },
   "outputs": [],
   "source": [
    "import xml.etree.ElementTree as ET\n",
    "tree = ET.parse('../StatsData/Users.xml')\n",
    "root = tree.getroot()\n",
    "chil = root.getchildren()\n",
    "UsersDF = pd.DataFrame([ch.attrib for ch in chil])"
   ]
  },
  {
   "cell_type": "code",
   "execution_count": null,
   "metadata": {
    "collapsed": false
   },
   "outputs": [],
   "source": [
    "groupUsers = UserScore.reset_index().loc[np.where(labels==1)]\n",
    "groupUsers['sum'] = groupUsers.sum(axis=1)\n",
    "ExpertIDs = groupUsers.sort('sum',ascending=0)['OwnerUserId'][0:10].values\n",
    "print ExpertIDs"
   ]
  },
  {
   "cell_type": "code",
   "execution_count": null,
   "metadata": {
    "collapsed": false
   },
   "outputs": [],
   "source": [
    "for ids in ExpertIDs:\n",
    "    user = UsersDF[UsersDF['Id'] ==ids]\n",
    "    name = user['DisplayName'].values[0]\n",
    "    web = user['WebsiteUrl'].values[0]\n",
    "    reputation = user['Reputation'].values[0]\n",
    "    print 'Display Name:', name,'(Reputation:',reputation,')'\n",
    "    print 'Website url:', web\n"
   ]
  },
  {
   "cell_type": "code",
   "execution_count": null,
   "metadata": {
    "collapsed": false
   },
   "outputs": [],
   "source": [
    "groupUsers = UserScore.reset_index().loc[np.where(labels==4)]\n",
    "groupUsers['sum'] = groupUsers.sum(axis=1)\n",
    "ExpertIDs = groupUsers.sort('sum',ascending=0)['OwnerUserId'][0:10].values\n",
    "print ExpertIDs\n",
    "for ids in ExpertIDs:\n",
    "    user = UsersDF[UsersDF['Id'] ==ids]\n",
    "    name = user['DisplayName'].values[0]\n",
    "    web = user['WebsiteUrl'].values[0]\n",
    "    reputation = user['Reputation'].values[0]\n",
    "    print 'Display Name:', name,'(Reputation:',reputation,'),',\n",
    "    print 'URL:', web"
   ]
  },
  {
   "cell_type": "code",
   "execution_count": null,
   "metadata": {
    "collapsed": true
   },
   "outputs": [],
   "source": []
  }
 ],
 "metadata": {
  "kernelspec": {
   "display_name": "Python 2",
   "language": "python",
   "name": "python2"
  },
  "language_info": {
   "codemirror_mode": {
    "name": "ipython",
    "version": 2
   },
   "file_extension": ".py",
   "mimetype": "text/x-python",
   "name": "python",
   "nbconvert_exporter": "python",
   "pygments_lexer": "ipython2",
   "version": "2.7.9"
  }
 },
 "nbformat": 4,
 "nbformat_minor": 0
}
